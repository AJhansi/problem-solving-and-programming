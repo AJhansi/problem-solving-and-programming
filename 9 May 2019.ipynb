{
 "cells": [
  {
   "cell_type": "markdown",
   "metadata": {},
   "source": [
    "# PROBLEM SOLVING PROGRAMMING\n",
    "## DAY NO- 6\n",
    "## DATE- MAY 9-2019"
   ]
  },
  {
   "cell_type": "markdown",
   "metadata": {},
   "source": [
    "## DAY OBJECTIVES\n",
    "\n",
    "* SOLVED DAY 4 PROBLEMS."
   ]
  },
  {
   "cell_type": "markdown",
   "metadata": {},
   "source": [
    "### PROBLEM 1:\n",
    "\n",
    "#### PROBLEM STATEMENT:   \n",
    "\n",
    "Given 2 int values, return True if one is negative and one is positive. Except if the parameter \"negative\" is True, then return True only if both are negative.\n"
   ]
  },
  {
   "cell_type": "markdown",
   "metadata": {},
   "source": [
    "* test case 1 :pos_neg(1, -1, False) → True\n",
    "* test case 2 :pos_neg(-1, 1, False) → True\n",
    "* test case 3 :pos_neg(-4, -5, True) → True\n",
    "* test case 4 :pos_neg(-1,  1, True) -> False\n",
    "* test case 5 :pos_neg(1,  6,  True) -> False\n",
    "* test case 4 :pos_neg(-1,-9, False) -> False"
   ]
  },
  {
   "cell_type": "markdown",
   "metadata": {},
   "source": [
    "### EXPLANATION:  "
   ]
  },
  {
   "cell_type": "code",
   "execution_count": null,
   "metadata": {},
   "outputs": [],
   "source": [
    "def pos_neg(n1, n2, b):\n",
    "    return (n1 < 0 and n2 > 0 and b == False) or (n1 > 0 and n2 < 0 and b == False) or (n1 < 0 and n2 < 0 and b == True)\n",
    "       # return True\n",
    "    #else:\n",
    "     #   return False\n",
    "print(pos_neg(1,-1,False))\n",
    "print(pos_neg(-1, 1, False))\n",
    "print(pos_neg(-4, -5, True))\n",
    "print(pos_neg(-1,  1, True))\n",
    "print(pos_neg(1,  6,  True))\n",
    "print(pos_neg(-1,-9, False))"
   ]
  },
  {
   "cell_type": "code",
   "execution_count": null,
   "metadata": {},
   "outputs": [],
   "source": [
    "def pos_neg(n1, n2, b):\n",
    "    if (n1 < 0 and n2 > 0 and b == False) or (n1 > 0 and n2 < 0 and b == False) or (n1 < 0 and n2 < 0 and b == True):\n",
    "        return True\n",
    "    else:\n",
    "        return False\n",
    "print(pos_neg(1,-1,False))\n",
    "print(pos_neg(-1, 1, False))\n",
    "print(pos_neg(-4, -5, True))\n",
    "print(pos_neg(-1,  1, True))# -> False\n",
    "print(pos_neg(1,  6,  True))#-> False\n",
    "print(pos_neg(-1,-9, False))#-> False\n"
   ]
  },
  {
   "cell_type": "markdown",
   "metadata": {},
   "source": [
    "### PROBLEM 2:\n",
    "\n",
    "#### PROBLEM STATEMENT:  \n",
    "Create a Random Number Generator as a Procedure which takes the Range(lb, ub) and returns a Random number in the given range\n",
    "\n",
    "\n",
    "\n",
    "#### Test Cases\n",
    " * RandomGenerator(l, 100) -> will be in range(1,100)"
   ]
  },
  {
   "cell_type": "code",
   "execution_count": null,
   "metadata": {},
   "outputs": [],
   "source": [
    "import random\n",
    "\n",
    "random.randrange(1, 101,2 )"
   ]
  },
  {
   "cell_type": "code",
   "execution_count": null,
   "metadata": {},
   "outputs": [],
   "source": [
    "import random\n",
    "\n",
    "def randomGenerator(lb, ub):\n",
    "    return random.randrange(lb+1, ub )\n",
    "randomGenerator(1,101)"
   ]
  },
  {
   "cell_type": "code",
   "execution_count": null,
   "metadata": {},
   "outputs": [],
   "source": [
    "\n",
    "import random\n",
    "\n",
    "def randomGenerator(lb, ub):\n",
    "    return random.randrange(lb+1, ub )\n",
    "randomGenerator(1,101)"
   ]
  },
  {
   "cell_type": "markdown",
   "metadata": {},
   "source": [
    "### PROBLEM 3:\n",
    "\n",
    "#### PROBLEM STATEMENT:     \n",
    "Design a procedure to perform Linear search on list of N unsorted numbers. It take an array and the key element to be searched and returns the index of the element of key element if found. Else returns -1\n",
    "\n",
    "#### TEST CASES\n",
    "\n",
    "* LinearSearch( a[5,4,3,2,1], 4) -> 2\n",
    "* LinearSearch( a[90, 123, 324, 21, 56], 22) -> -1.\n",
    "* LinearSearch([321, 542, 567, 789],567) -> 2"
   ]
  },
  {
   "cell_type": "code",
   "execution_count": null,
   "metadata": {},
   "outputs": [],
   "source": [
    "a = [5,4,3,2,1]\n",
    "key=int(input(\"enter the key value\"))\n",
    "def LinearSearch(a,key):\n",
    "    for i in range(0, len(a)):\n",
    "            if(a[i]==key):\n",
    "                return i\n",
    "    return -1\n",
    "\n",
    "print(LinearSearch(a,key))"
   ]
  },
  {
   "cell_type": "markdown",
   "metadata": {},
   "source": [
    "### PROBLEM 4:\n",
    "\n",
    "#### PROBLEM STATEMENT:  \n",
    "\n",
    "PALINDROME:\n",
    "\n",
    "### TEST CASES\n",
    "\n",
    "* Palindrome(\"racecar\") -> True.\n",
    "* Palindrome(\"raptor\") -> False."
   ]
  },
  {
   "cell_type": "code",
   "execution_count": null,
   "metadata": {},
   "outputs": [],
   "source": [
    "a=input(\"enter word\")\n",
    "def reverse(a):\n",
    "    return a[::-1]\n",
    "def palindrome(a):\n",
    "    if(a==reverse(a)):\n",
    "        print(\"True\")\n",
    "    else:\n",
    "        print(\"False\")\n",
    "palindrome(a)"
   ]
  },
  {
   "cell_type": "markdown",
   "metadata": {},
   "source": [
    "### PROBLEM 5:\n",
    "\n",
    "#### PROBLEM STATEMENT:\n",
    "\n",
    "Given 2 ints, a and b, return True if one if them is 10 or if their sum is 10.\n",
    "\n",
    "### TEST CASES\n",
    "\n",
    "* makes10(9, 10) → True\n",
    "* makes10(9, 9) → False\n",
    "* makes10(1, 9) → True"
   ]
  },
  {
   "cell_type": "code",
   "execution_count": null,
   "metadata": {},
   "outputs": [],
   "source": [
    "a=int(input(\"enter a\"))\n",
    "b=int(input(\"enter b\"))\n",
    "def problem(a,b):\n",
    "    if(a==10 or b==10 or a+b==10):\n",
    "        print(\"True\")\n",
    "    else:\n",
    "        print(\"False\")\n",
    "problem(a,b)\n"
   ]
  },
  {
   "cell_type": "markdown",
   "metadata": {},
   "source": [
    "### PROBLEM 6:\n",
    "\n",
    "#### PROBLEM STATEMENT:\n",
    "\n",
    "\n",
    "Design a procedure calculate the maximum, minimum and average of N numbers\n",
    "\n",
    "### TEST CASES\n",
    "\n",
    "\n",
    "* data( a[1,2,3,4,5] ) -> Max = 5, Min = 1, Avg = 3"
   ]
  },
  {
   "cell_type": "code",
   "execution_count": null,
   "metadata": {},
   "outputs": [],
   "source": [
    "a = [1,2,3,4,5]\n",
    "def avg(a):\n",
    "    sum=0 \n",
    "    for i in a:\n",
    "        sum = sum + a[i]\n",
    "        print(sum)\n",
    "        print(sum/len(a))\n",
    "avg(a)\n",
    "\n"
   ]
  },
  {
   "cell_type": "code",
   "execution_count": null,
   "metadata": {},
   "outputs": [],
   "source": [
    "a = [11,92,3,46,75]\n",
    "sum(a)\n",
    "avg = (sum(a))/(len(a)) \n",
    "print(avg)\n",
    "print(max(a))\n",
    "print(sorted(a))\n",
    "print(min(a))"
   ]
  },
  {
   "cell_type": "code",
   "execution_count": null,
   "metadata": {},
   "outputs": [],
   "source": [
    "num = int(input(\"enter the number\"))\n",
    "  \n",
    "# If given number is greater than 1 \n",
    "if num > 1: \n",
    "      \n",
    "   # Iterate from 2 to n / 2  \n",
    "   for i in range(2, num//2): \n",
    "         \n",
    "       # If num is divisible by any number between  \n",
    "       # 2 and n / 2, it is not prime  \n",
    "    if (num % i) == 0: \n",
    "        print(num, \"is not a prime number\") \n",
    "        break\n",
    "    else: \n",
    "        print(num, \"is a prime number\") \n",
    "        break\n",
    "else: \n",
    "    \n",
    "            print(num, \"is not a prime number\")"
   ]
  },
  {
   "cell_type": "markdown",
   "metadata": {},
   "source": [
    "### PROBLEM 7:\n",
    "\n",
    "#### PROBLEM STATEMENT:\n",
    "To find whether the given number is prime number or not"
   ]
  },
  {
   "cell_type": "code",
   "execution_count": null,
   "metadata": {},
   "outputs": [],
   "source": [
    "num = int(input(\"enter the number\"))\n",
    "  \n",
    "# If given number is greater than 1 \n",
    "if num > 1: \n",
    "      \n",
    "   # Iterate from 2 to n / 2  \n",
    "   for i in range(2, num//2): \n",
    "         \n",
    "       # If num is divisible by any number between  \n",
    "       # 2 and n / 2, it is not prime  \n",
    "    if (num % i) == 0: \n",
    "        print(num, \"is not a prime number\") \n",
    "        break\n",
    "    else: \n",
    "        print(num, \"is a prime number\") \n",
    "        break\n",
    "else: \n",
    "    \n",
    "            print(num, \"is not a prime number\")"
   ]
  },
  {
   "cell_type": "code",
   "execution_count": null,
   "metadata": {},
   "outputs": [],
   "source": []
  },
  {
   "cell_type": "markdown",
   "metadata": {},
   "source": [
    "### PROBLEM 8:\n",
    "\n",
    "#### PROBLEM STATEMENT:\n",
    "To print the n natural numbers"
   ]
  },
  {
   "cell_type": "code",
   "execution_count": null,
   "metadata": {},
   "outputs": [],
   "source": [
    "n=int(input(\"enter a valve\"))\n",
    "def naturalnumber(n):\n",
    "    for i in range(1,n):\n",
    "     print(i)\n",
    "naturalnumber(n)"
   ]
  },
  {
   "cell_type": "code",
   "execution_count": null,
   "metadata": {},
   "outputs": [],
   "source": []
  },
  {
   "cell_type": "markdown",
   "metadata": {},
   "source": [
    "### PROBLEM 9:\n",
    "\n",
    "#### PROBLEM STATEMENT:\n",
    "To find the sum of n natural numbers "
   ]
  },
  {
   "cell_type": "code",
   "execution_count": null,
   "metadata": {},
   "outputs": [],
   "source": [
    "n=int(input(\"enter a valve\"))\n",
    "def naturalnumber(n):\n",
    "    sum=0\n",
    "for i in range(1,n-1):\n",
    "    sum = sum+i \n",
    "    print(sum)\n",
    "naturalnumber(n)"
   ]
  },
  {
   "cell_type": "code",
   "execution_count": null,
   "metadata": {},
   "outputs": [],
   "source": []
  },
  {
   "cell_type": "markdown",
   "metadata": {},
   "source": [
    "### PROBLEM 10:\n",
    "\n",
    "#### PROBLEM STATEMENT:\n",
    "To print the multiplication table"
   ]
  },
  {
   "cell_type": "code",
   "execution_count": 1,
   "metadata": {},
   "outputs": [
    {
     "name": "stdout",
     "output_type": "stream",
     "text": [
      "enter end value7\n",
      "enter the table value3\n",
      "3 X 1 = 3\n",
      "3 X 2 = 6\n",
      "3 X 3 = 9\n",
      "3 X 4 = 12\n",
      "3 X 5 = 15\n",
      "3 X 6 = 18\n"
     ]
    }
   ],
   "source": [
    "x=int(input(\"enter end value\"))\n",
    "n=int(input(\"enter the table value\"))\n",
    "def multiplicationTable(n):\n",
    "    l=1  \n",
    "#if(i%n==0):\n",
    "    for i in range(1,x):\n",
    "        l=i*n\n",
    "        print(n,'X',i,'=',l)\n",
    "multiplicationTable(n)"
   ]
  },
  {
   "cell_type": "code",
   "execution_count": null,
   "metadata": {},
   "outputs": [],
   "source": []
  }
 ],
 "metadata": {
  "kernelspec": {
   "display_name": "Python 3",
   "language": "python",
   "name": "python3"
  },
  "language_info": {
   "codemirror_mode": {
    "name": "ipython",
    "version": 3
   },
   "file_extension": ".py",
   "mimetype": "text/x-python",
   "name": "python",
   "nbconvert_exporter": "python",
   "pygments_lexer": "ipython3",
   "version": "3.7.3"
  }
 },
 "nbformat": 4,
 "nbformat_minor": 2
}
