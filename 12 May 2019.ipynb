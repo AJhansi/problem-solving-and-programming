{
 "cells": [
  {
   "cell_type": "markdown",
   "metadata": {},
   "source": [
    "# PROBLEM SOLVING PROGRAMMING\n",
    "## DAY NO-9\n",
    "## DATE-12th MAY,2019\n"
   ]
  },
  {
   "cell_type": "markdown",
   "metadata": {},
   "source": [
    "## DAY OBJECTIVES\n",
    "\n",
    "1. OBJECTIVE--1\n",
    "2. OBJECTIVE--2\n",
    "3. OBJECTIVE--3"
   ]
  },
  {
   "cell_type": "markdown",
   "metadata": {},
   "source": [
    "### PROBLEM 1:\n",
    "\n",
    "#### PROBLEM STATEMENT\n",
    "\n",
    " Define a function to check if a given year is a leap year. Returns a boolean value\n",
    "\n",
    "* 2000 -> True\n",
    "* 1900 -> False\n",
    "* 2012 -> True\n",
    "* 2020 -> True\n",
    "* 0200 -> False\n",
    "\n",
    "\n",
    "\n"
   ]
  },
  {
   "cell_type": "code",
   "execution_count": 2,
   "metadata": {},
   "outputs": [
    {
     "data": {
      "text/plain": [
       "28"
      ]
     },
     "execution_count": 2,
     "metadata": {},
     "output_type": "execute_result"
    }
   ],
   "source": [
    "def dateDifference(date1,date2):\n",
    "    return\n",
    "def numDaysInMonth(month):\n",
    "    monthDays = {'01':31, '03':31, '04':30, '05':31, '06':30, '08':31, '09':30, '10':31, '11':30, '12':31 }\n",
    "    if (month<7 and month!=2 and month%2==0) or (month>7 and month%2!=0):\n",
    "            return 30\n",
    "    elif (month==2):\n",
    "        return 28\n",
    "    else:\n",
    "        return 31\n",
    "numDaysInMonth(2)"
   ]
  },
  {
   "cell_type": "code",
   "execution_count": null,
   "metadata": {},
   "outputs": [],
   "source": []
  }
 ],
 "metadata": {
  "kernelspec": {
   "display_name": "Python 3",
   "language": "python",
   "name": "python3"
  },
  "language_info": {
   "codemirror_mode": {
    "name": "ipython",
    "version": 3
   },
   "file_extension": ".py",
   "mimetype": "text/x-python",
   "name": "python",
   "nbconvert_exporter": "python",
   "pygments_lexer": "ipython3",
   "version": "3.7.3"
  }
 },
 "nbformat": 4,
 "nbformat_minor": 2
}
