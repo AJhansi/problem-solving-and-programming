{
 "cells": [
  {
   "cell_type": "markdown",
   "metadata": {},
   "source": [
    "# Problem Solving and Programming\n",
    "\n",
    "\n",
    "## Day 8\n",
    "\n",
    "\n",
    "## May 11/19"
   ]
  },
  {
   "cell_type": "markdown",
   "metadata": {},
   "source": [
    "# Problem 1\n",
    "\n",
    "## Define a function to check if a given year is a leap year. Returns a boolean value\n",
    "\n",
    "\n",
    "### test cases\n",
    "* 2000 -> True\n",
    "* 1900 -> False\n",
    "* 2012 -> True\n",
    "* 2020 -> True\n",
    "* 0200 -> False\n",
    "\n"
   ]
  },
  {
   "cell_type": "code",
   "execution_count": 5,
   "metadata": {},
   "outputs": [
    {
     "name": "stdout",
     "output_type": "stream",
     "text": [
      "enter the year2000\n",
      "year is leap year\n"
     ]
    }
   ],
   "source": [
    "year=int(input(\"enter the year\"))\n",
    "if (year%4==0 and year%100!=0 or year%400==0):\n",
    "    print(\"year is leap year\")\n",
    "else:\n",
    "    print(\"year is not a leap year\")"
   ]
  },
  {
   "cell_type": "code",
   "execution_count": null,
   "metadata": {},
   "outputs": [],
   "source": []
  },
  {
   "cell_type": "markdown",
   "metadata": {},
   "source": [
    "#  Problem 2\n",
    "\n",
    "### Design a Python script to determine the difference in date for given two dates in YYYY:MM:DD format(0 <= YYYY <= 9999, 1 <= MM <= 12, 1 <= DD <= 31)\n",
    "\n",
    "#### Test case\n",
    "* dateDifference('2019:05:10', '2019:05:01') -> 9\n",
    "* dateDifference('0003:03:03', '0003:06:06') -> 95\n"
   ]
  },
  {
   "cell_type": "code",
   "execution_count": 9,
   "metadata": {},
   "outputs": [
    {
     "name": "stdout",
     "output_type": "stream",
     "text": [
      "8 days, 0:00:00\n"
     ]
    }
   ],
   "source": [
    "from datetime import date\n",
    "f_date = date(2017 ,7, 19)\n",
    "l_date = date(2017, 7, 11)\n",
    "D=f_date - l_date\n",
    "print(D)\n"
   ]
  },
  {
   "cell_type": "code",
   "execution_count": null,
   "metadata": {},
   "outputs": [],
   "source": []
  },
  {
   "cell_type": "markdown",
   "metadata": {},
   "source": [
    "# Problem 3\n",
    "\n",
    "## Define a function to convert a binary number to the corresponding decimal number\n"
   ]
  },
  {
   "cell_type": "code",
   "execution_count": 2,
   "metadata": {},
   "outputs": [
    {
     "data": {
      "text/plain": [
       "4"
      ]
     },
     "execution_count": 2,
     "metadata": {},
     "output_type": "execute_result"
    }
   ],
   "source": [
    "def binarytodecimal(n):\n",
    "    num=n\n",
    "    dec=0\n",
    "    base=1\n",
    "    temp=num\n",
    "    while(temp):\n",
    "        rem=temp%10\n",
    "        temp=temp//10\n",
    "        dec=dec+base*rem\n",
    "        base=base*2\n",
    "    return dec\n",
    "binarytodecimal(100)"
   ]
  },
  {
   "cell_type": "code",
   "execution_count": null,
   "metadata": {},
   "outputs": [],
   "source": []
  },
  {
   "cell_type": "markdown",
   "metadata": {},
   "source": [
    "# Problem 4\n",
    "\n",
    "## Define a function to merge the characters of two strings alternatively. The remaining characters of the longer string are printed in the same order at the end\n",
    "\n",
    "### Test cases\n",
    "* mergeString('abcd', 'abcd') -> 'aabbccdd'\n",
    "* mergeString('abc', '123456') -> 'a1b2c3456'\n",
    "* mergeString('0', '123456') -> '0123456'"
   ]
  },
  {
   "cell_type": "code",
   "execution_count": 5,
   "metadata": {},
   "outputs": [
    {
     "name": "stdout",
     "output_type": "stream",
     "text": [
      "enter the first stringac\n",
      "enter the second stringbd\n",
      "abcd\n"
     ]
    }
   ],
   "source": [
    "s1=str(input(\"enter the first string\"))\n",
    "s2=str(input(\"enter the second string\"))\n",
    "z=\"\"\n",
    "if (len(s1)==len(s2)):\n",
    "    for i in range(len(s1)):\n",
    "        z=z+(s1[i])\n",
    "        z=z+(s2[i])\n",
    "elif (len(s1)>len(s2)):\n",
    "    for i in range(len(s2)):\n",
    "        z=z+(s1[i])\n",
    "        z=z+(s2[i])\n",
    "    for i in range(len(s1),len(s2)):\n",
    "        z=z+(s1[i])\n",
    "else:\n",
    "    (len(s1)<len(s2))\n",
    "    for i in range(len(s1)):\n",
    "        z=z+(s1[i])\n",
    "        z=z+(s2[i])\n",
    "    for i in range(len(s1),len(s2)):\n",
    "        z=z+(s2[i])\n",
    "print(z)      \n",
    "        "
   ]
  },
  {
   "cell_type": "code",
   "execution_count": null,
   "metadata": {},
   "outputs": [],
   "source": []
  },
  {
   "cell_type": "markdown",
   "metadata": {},
   "source": [
    "# Program 5\n",
    "\n",
    "## Define a function to print the sequence of spiral pattern elements for a given N x N matrix\n",
    "\n",
    "\n",
    "#### test case\n",
    "* spiralPattern([[1,2,3], [4,5,6], [7,8,9]]) -> 1 2 3 6 9 8 7 4 5\n"
   ]
  },
  {
   "cell_type": "code",
   "execution_count": 5,
   "metadata": {},
   "outputs": [
    {
     "name": "stdout",
     "output_type": "stream",
     "text": [
      "1 2 3 6 9 8 7 4 5 "
     ]
    }
   ],
   "source": [
    "def spiralPrint(m, n, a) : \n",
    "    k = 0; l = 0\n",
    "  \n",
    "    ''' k - starting row index \n",
    "        m - ending row index \n",
    "        l - starting column index \n",
    "        n - ending column index \n",
    "        i - iterator '''\n",
    "      \n",
    "  \n",
    "    while (k < m and l < n) : \n",
    "          \n",
    "        \n",
    "        for i in range(l, n) : \n",
    "            print(a[k][i], end = \" \") \n",
    "              \n",
    "        k += 1\n",
    "  \n",
    "         \n",
    "        for i in range(k, m) : \n",
    "            print(a[i][n - 1], end = \" \") \n",
    "              \n",
    "        n -= 1\n",
    "  \n",
    "          \n",
    "        if ( k < m) : \n",
    "              \n",
    "            for i in range(n - 1, (l - 1), -1) : \n",
    "                print(a[m - 1][i], end = \" \") \n",
    "              \n",
    "            m -= 1\n",
    "          \n",
    "        \n",
    "        if (l < n) : \n",
    "            for i in range(m - 1, k - 1, -1) : \n",
    "                print(a[i][l], end = \" \") \n",
    "              \n",
    "            l += 1\n",
    "  \n",
    "\n",
    "a = [ [1, 2, 3], \n",
    "      [4, 5, 6], \n",
    "      [7, 8, 9] ] \n",
    "        \n",
    "R = 3; C = 3\n",
    "spiralPrint(R, C, a) \n",
    "  \n"
   ]
  },
  {
   "cell_type": "code",
   "execution_count": null,
   "metadata": {},
   "outputs": [],
   "source": []
  },
  {
   "cell_type": "markdown",
   "metadata": {},
   "source": [
    "# Problem 6\n",
    "\n",
    "## Define a function to identity the number of times a substring is repeating in a given string\n",
    "\n",
    "#### Testcases\n",
    "\n",
    "* substringCount('str', 'substr') -> 1\n",
    "* substringCount('1234567891122334455', '3') -> 3\n",
    "* substringCount('abccddccc', 'cc') -> 3"
   ]
  },
  {
   "cell_type": "code",
   "execution_count": 2,
   "metadata": {},
   "outputs": [
    {
     "name": "stdout",
     "output_type": "stream",
     "text": [
      "1\n",
      "2\n",
      "3\n"
     ]
    }
   ],
   "source": [
    "def substringcount(str1,str2):\n",
    "    count=0\n",
    "    if(len(str1)>len(str2)):\n",
    "        a=str1\n",
    "        b=str2\n",
    "    else:\n",
    "        a=str2\n",
    "        b=str1\n",
    "    for i in range(len(a)):\n",
    "        if b in a[i:i+len(b)]:\n",
    "            count=count+1\n",
    "    return count\n",
    "print(substringcount('str','substring'))\n",
    "print(substringcount('1234567891234567890','3'))\n",
    "print(substringcount('abccddccc','cc'))"
   ]
  },
  {
   "cell_type": "code",
   "execution_count": null,
   "metadata": {},
   "outputs": [],
   "source": []
  }
 ],
 "metadata": {
  "kernelspec": {
   "display_name": "Python 3",
   "language": "python",
   "name": "python3"
  },
  "language_info": {
   "codemirror_mode": {
    "name": "ipython",
    "version": 3
   },
   "file_extension": ".py",
   "mimetype": "text/x-python",
   "name": "python",
   "nbconvert_exporter": "python",
   "pygments_lexer": "ipython3",
   "version": "3.6.5"
  }
 },
 "nbformat": 4,
 "nbformat_minor": 2
}
