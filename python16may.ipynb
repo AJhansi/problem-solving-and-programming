{
 "cells": [
  {
   "cell_type": "markdown",
   "metadata": {},
   "source": [
    "# problem sol;ving and programming\n",
    "## day:13\n",
    "## date:16 may/19\n",
    "### day outcomes\n",
    "* objective 1\n",
    "* objective 2 \n",
    "* objective 3\n",
    "### problem1:\n",
    "#### problem statement\n",
    "#### contraints\n",
    "###### test cases\n",
    " * test case 1\n",
    " * test case 2\n",
    " * test case 3"
   ]
  },
  {
   "cell_type": "code",
   "execution_count": 15,
   "metadata": {},
   "outputs": [
    {
     "data": {
      "text/plain": [
       "'abc\\n'"
      ]
     },
     "execution_count": 15,
     "metadata": {},
     "output_type": "execute_result"
    }
   ],
   "source": [
    "def readfiledata(filename):\n",
    "    f=open(filename, 'r')\n",
    "    filedata=f.readline()\n",
    "    \n",
    "    f.close\n",
    "    return filedata\n",
    "readfiledata('PythonScripts/data.txt')"
   ]
  },
  {
   "cell_type": "code",
   "execution_count": 18,
   "metadata": {},
   "outputs": [
    {
     "data": {
      "text/plain": [
       "'abc\\n'"
      ]
     },
     "execution_count": 18,
     "metadata": {},
     "output_type": "execute_result"
    }
   ],
   "source": [
    "def readfiledata(filename):\n",
    "    with open(filename, 'r') as f:\n",
    "        \n",
    "        filedata=f.readline()\n",
    "    \n",
    "    f.close\n",
    "    return filedata\n",
    "readfiledata('PythonScripts/j')"
   ]
  },
  {
   "cell_type": "code",
   "execution_count": null,
   "metadata": {},
   "outputs": [],
   "source": []
  },
  {
   "cell_type": "code",
   "execution_count": 19,
   "metadata": {},
   "outputs": [
    {
     "name": "stdout",
     "output_type": "stream",
     "text": [
      "abc\n",
      "hgf\n",
      "lkj"
     ]
    }
   ],
   "source": [
    "def readfiledata(filename):\n",
    "    with open(filename, 'r') as f:\n",
    "        for line in f:\n",
    "            print(line,end='')\n",
    "    \n",
    "    return \n",
    "readfiledata('PythonScripts/data.txt')"
   ]
  },
  {
   "cell_type": "code",
   "execution_count": null,
   "metadata": {},
   "outputs": [],
   "source": []
  },
  {
   "cell_type": "code",
   "execution_count": 20,
   "metadata": {},
   "outputs": [],
   "source": [
    "def writeintofile(filename):\n",
    "    with open(filename, 'r') as f:\n",
    "        #for line in f:\n",
    "            #print(line,end='')\n",
    "        print(f.read())\n",
    "    \n",
    "    return \n",
    "def writeintofile(filename,data):\n",
    "    with open(filename,'w') as f:\n",
    "        f.write(data)\n",
    "    return \n",
    "writeintofile('PythonScripts/filewrite.txt','datawritten')"
   ]
  },
  {
   "cell_type": "code",
   "execution_count": null,
   "metadata": {},
   "outputs": [],
   "source": []
  },
  {
   "cell_type": "code",
   "execution_count": 10,
   "metadata": {},
   "outputs": [],
   "source": [
    "def writeintofile(filename):\n",
    "    with open(filename, 'r') as f:\n",
    "        #for line in f:\n",
    "            #print(line,end='')\n",
    "        print(f.read())\n",
    "    \n",
    "    return \n",
    "def writeintofile(filename,data,mode):\n",
    "    with open(filename,mode) as f:\n",
    "        f.write(data)\n",
    "    return \n",
    "writeintofile('PythonScripts/filewrite.txt','second line','a')"
   ]
  },
  {
   "cell_type": "code",
   "execution_count": null,
   "metadata": {},
   "outputs": [],
   "source": []
  },
  {
   "cell_type": "markdown",
   "metadata": {},
   "source": [
    "## problem 2:\n",
    "\n",
    "## problem ststement:\n",
    "\n",
    "Define a function to generate a marks data file for 1300 students such that each mark is entered in a new file.Marks range from 0-100(inclusive) as random numbers\n",
    "\n",
    "\n",
    "### constraints\n",
    "#### test cases\n",
    "\n",
    "* test case 1\n",
    "* test case 2\n",
    "* test case 3\n"
   ]
  },
  {
   "cell_type": "code",
   "execution_count": 23,
   "metadata": {},
   "outputs": [],
   "source": [
    "import random\n",
    "\n",
    "def generatemarksdata(n, filename):\n",
    "    with open(filename,'w') as marksfile:\n",
    "        for i in range(0,n):\n",
    "            marks=random.randint(0,101)\n",
    "            marksfile.write(str(marks)+'\\n')\n",
    "    return\n",
    "generatemarksdata(1300,'marksdata.txt')\n"
   ]
  },
  {
   "cell_type": "code",
   "execution_count": null,
   "metadata": {},
   "outputs": [],
   "source": []
  },
  {
   "cell_type": "markdown",
   "metadata": {},
   "source": [
    "# problem 3:\n",
    "\n",
    "## problem ststement:\n",
    "generate a report on tne marks data with the following indications\n",
    "* highest mark\n",
    "* lowest mark\n",
    "* average mark\n",
    "* no. of students with distinction(>80):\n",
    "* no. of students with first calss(>60):\n",
    "* no. of students with second class(>50):\n",
    "* no. of students with third calss(>40):\n",
    "* no. of students with failed(<40):\n",
    "### constraints\n",
    "#### test cases\n",
    "\n",
    "* test case 1\n",
    "* test case 2\n",
    "* test case 3\n"
   ]
  },
  {
   "cell_type": "code",
   "execution_count": null,
   "metadata": {},
   "outputs": [],
   "source": [
    "import re,timeit\n",
    "def generatemarksreport(marksdata):\n",
    "    start=timeit.default_timer()\n",
    "    marksdata=readfiledata(marksfile)\n",
    "    marksdata=re.split('r\\n',marksdata)\n",
    "    return timeit.default_timer()-start\n",
    "generatemarksreport('marksdata.txt')"
   ]
  },
  {
   "cell_type": "code",
   "execution_count": 7,
   "metadata": {},
   "outputs": [
    {
     "name": "stdout",
     "output_type": "stream",
     "text": [
      "Enter username : \n",
      "joshi\n",
      "Enter password : \n",
      "1234\n",
      "Welcome - Access Granted\n",
      "************MAIN MENU**************\n",
      "\n",
      "\n",
      "                      A: Enter Student details\n",
      "                      B: View Student details\n",
      "                      C: Search by ID number\n",
      "                      D: Produce Reports\n",
      "                      Q: Quit/Log Out\n",
      "\n",
      "                      Please enter your choice: A\n",
      "Enter id\n",
      "123456\n",
      "Enter first name\n",
      "jhansi\n",
      "Enter surname\n",
      "alugoju\n",
      "Enter Date of Birth Format: dd/mm/yy\n",
      "04/03/2000\n",
      "Enter first line of address\n",
      "gitam\n",
      "Enter Postcode\n",
      "500049\n",
      "Enter Gender\n",
      "female\n",
      "Enter Tutor Group\n",
      "Akash\n",
      "Enter email address\n",
      "jhansi.alugoju@gmail.com\n",
      "enter sub1\n",
      "90\n",
      "enter sub2\n",
      "80\n",
      "Record has been written to file\n",
      "************MAIN MENU**************\n",
      "\n",
      "\n",
      "                      A: Enter Student details\n",
      "                      B: View Student details\n",
      "                      C: Search by ID number\n",
      "                      D: Produce Reports\n",
      "                      Q: Quit/Log Out\n",
      "\n",
      "                      Please enter your choice: B\n",
      "1235,jhansi,alugoju,04/03/2000,gitam,500049,f,Akash ,jhansi.alugoju@gmial.com,90,80\n",
      "\n",
      "123456,jhansi,alugoju,04/03/2000,gitam,500049,female,Akash,jhansi.alugoju@gmail.com,90,80\n",
      "\n",
      "\n",
      "************MAIN MENU**************\n",
      "\n",
      "\n",
      "                      A: Enter Student details\n",
      "                      B: View Student details\n",
      "                      C: Search by ID number\n",
      "                      D: Produce Reports\n",
      "                      Q: Quit/Log Out\n",
      "\n",
      "                      Please enter your choice: C\n"
     ]
    }
   ],
   "source": [
    "import csv\n",
    "import sys\n",
    "def main():\n",
    "    login()\n",
    "    \n",
    "def login():\n",
    "    username=\"joshi\"\n",
    "    password=\"1234\"\n",
    "    print(\"Enter username : \")\n",
    "    answer1=input()\n",
    "    print(\"Enter password : \")\n",
    "    answer2=input()\n",
    "    if answer1==username and answer2==password:\n",
    "        print(\"Welcome - Access Granted\")\n",
    "        menu()\n",
    "\n",
    "def menu():\n",
    "    print(\"************MAIN MENU**************\")\n",
    "    #time.sleep(1)\n",
    "    print()\n",
    "\n",
    "    choice = input(\"\"\"\n",
    "                      A: Enter Student details\n",
    "                      B: View Student details\n",
    "                      C: Search by ID number\n",
    "                      D: Produce Reports\n",
    "                      Q: Quit/Log Out\n",
    "\n",
    "                      Please enter your choice: \"\"\")\n",
    "\n",
    "    if choice == \"A\" or choice ==\"a\":\n",
    "        enterstudentdetails()\n",
    "    elif choice == \"B\" or choice ==\"b\":\n",
    "        viewstudentdetails()\n",
    "    elif choice == \"C\" or choice ==\"c\":\n",
    "        searchbyid()\n",
    "    elif choice==\"D\" or choice==\"d\":\n",
    "        producereports()\n",
    "    elif choice==\"Q\" or choice==\"q\":\n",
    "        sys.exit\n",
    "    else:\n",
    "        print(\"You must only select either A,B,C, or D.\")\n",
    "        print(\"Please try again\")\n",
    "        menu()\n",
    "\n",
    "def enterstudentdetails():\n",
    "    \n",
    "    print(\"Enter id\")\n",
    "    id=input()\n",
    "    print(\"Enter first name\")\n",
    "    firstname=input()\n",
    "    print(\"Enter surname\")\n",
    "    surname=input()\n",
    "    print(\"Enter Date of Birth Format: dd/mm/yy\")\n",
    "    dob=input()\n",
    "    print(\"Enter first line of address\")\n",
    "    firstlineaddress=input()\n",
    "    print(\"Enter Postcode\")\n",
    "    postcode=input()\n",
    "    print(\"Enter Gender\")\n",
    "    gender=input()\n",
    "    print(\"Enter Tutor Group\")\n",
    "    tutorgroup=input()\n",
    "    print(\"Enter email address\")\n",
    "    email=input()\n",
    "    print(\"enter sub1\")\n",
    "    s1=input()\n",
    "    print(\"enter sub2\")\n",
    "    s2=input()\n",
    "    with open('studentfile.txt','a') as studentfile:\n",
    "        studentfileWriter=csv.writer(studentfile)\n",
    "        studentfileWriter.writerow([id,firstname,surname,dob,firstlineaddress,postcode,gender,tutorgroup,email,s1,s2])\n",
    "        print(\"Record has been written to file\")\n",
    "        studentfile.close()\n",
    "        menu()\n",
    "\n",
    "def viewstudentdetails():\n",
    "\n",
    "    f=open(\"studentfile.txt\",\"r\",encoding=\"utf8\")\n",
    "   \n",
    "    displaylist=f.read()\n",
    "   \n",
    "    print(displaylist)\n",
    "    f.close()\n",
    "    menu()\n",
    "\n",
    "def searchbyid():\n",
    "    pass\n",
    "    \n",
    "def producereports():\n",
    "    pass\n",
    "    \n",
    "    \n",
    "    \n",
    "    \n",
    "    \n",
    "    \n",
    "    \n",
    "\n",
    "main()"
   ]
  },
  {
   "cell_type": "code",
   "execution_count": null,
   "metadata": {},
   "outputs": [],
   "source": []
  },
  {
   "cell_type": "code",
   "execution_count": 1,
   "metadata": {},
   "outputs": [
    {
     "name": "stdout",
     "output_type": "stream",
     "text": [
      "[0 1 3]\n"
     ]
    },
    {
     "data": {
      "text/plain": [
       "numpy.ndarray"
      ]
     },
     "execution_count": 1,
     "metadata": {},
     "output_type": "execute_result"
    }
   ],
   "source": [
    "import numpy as np\n",
    "\n",
    "a=np.array([0,1,3])\n",
    "\n",
    "print(a)\n",
    "type(a)"
   ]
  },
  {
   "cell_type": "code",
   "execution_count": 5,
   "metadata": {},
   "outputs": [
    {
     "ename": "TypeError",
     "evalue": "data type not understood",
     "output_type": "error",
     "traceback": [
      "\u001b[1;31m---------------------------------------------------------------------------\u001b[0m",
      "\u001b[1;31mTypeError\u001b[0m                                 Traceback (most recent call last)",
      "\u001b[1;32m<ipython-input-5-fc3fcee3bfc9>\u001b[0m in \u001b[0;36m<module>\u001b[1;34m\u001b[0m\n\u001b[0;32m      1\u001b[0m \u001b[1;32mimport\u001b[0m \u001b[0mnumpy\u001b[0m \u001b[1;32mas\u001b[0m \u001b[0mnp\u001b[0m\u001b[1;33m\u001b[0m\u001b[1;33m\u001b[0m\u001b[0m\n\u001b[0;32m      2\u001b[0m \u001b[1;33m\u001b[0m\u001b[0m\n\u001b[1;32m----> 3\u001b[1;33m \u001b[0ma\u001b[0m\u001b[1;33m=\u001b[0m\u001b[0mnp\u001b[0m\u001b[1;33m.\u001b[0m\u001b[0marray\u001b[0m\u001b[1;33m(\u001b[0m\u001b[1;33m[\u001b[0m\u001b[1;36m0\u001b[0m\u001b[1;33m,\u001b[0m\u001b[1;36m1\u001b[0m\u001b[1;33m,\u001b[0m\u001b[1;36m3\u001b[0m\u001b[1;33m]\u001b[0m \u001b[1;33m,\u001b[0m \u001b[1;33m[\u001b[0m\u001b[1;36m3\u001b[0m\u001b[1;33m,\u001b[0m\u001b[1;36m4\u001b[0m\u001b[1;33m,\u001b[0m\u001b[1;36m1\u001b[0m\u001b[1;33m]\u001b[0m\u001b[1;33m)\u001b[0m\u001b[1;33m\u001b[0m\u001b[1;33m\u001b[0m\u001b[0m\n\u001b[0m\u001b[0;32m      4\u001b[0m \u001b[1;33m\u001b[0m\u001b[0m\n\u001b[0;32m      5\u001b[0m \u001b[0mprint\u001b[0m\u001b[1;33m(\u001b[0m\u001b[0ma\u001b[0m\u001b[1;33m)\u001b[0m\u001b[1;33m\u001b[0m\u001b[1;33m\u001b[0m\u001b[0m\n",
      "\u001b[1;31mTypeError\u001b[0m: data type not understood"
     ]
    }
   ],
   "source": [
    "import numpy as np\n",
    "\n",
    "a=np.array([0,1,3] , [3,4,1])\n",
    "\n",
    "print(a)\n",
    "type(a)"
   ]
  },
  {
   "cell_type": "code",
   "execution_count": null,
   "metadata": {},
   "outputs": [],
   "source": []
  }
 ],
 "metadata": {
  "kernelspec": {
   "display_name": "Python 3",
   "language": "python",
   "name": "python3"
  },
  "language_info": {
   "codemirror_mode": {
    "name": "ipython",
    "version": 3
   },
   "file_extension": ".py",
   "mimetype": "text/x-python",
   "name": "python",
   "nbconvert_exporter": "python",
   "pygments_lexer": "ipython3",
   "version": "3.7.3"
  }
 },
 "nbformat": 4,
 "nbformat_minor": 2
}
