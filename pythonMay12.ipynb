{
 "cells": [
  {
   "cell_type": "markdown",
   "metadata": {},
   "source": [
    "# Problrm solving and programming\n",
    "\n",
    "# Day 9\n",
    "\n",
    "## Date : May 12/19\n",
    "\n",
    "###  You are given n words. Some words may repeat. For each word, output its number of occurrences. The output order should correspond with the input order of appearance of the word."
   ]
  },
  {
   "cell_type": "code",
   "execution_count": 27,
   "metadata": {},
   "outputs": [
    {
     "name": "stdout",
     "output_type": "stream",
     "text": [
      "3\n",
      "222"
     ]
    }
   ],
   "source": [
    "def element(a,b):\n",
    "    uni=[]\n",
    "    uni.append(b[0])\n",
    "    index=0\n",
    "    for i in range(len(b)):\n",
    "        if(whether(b[i],uni) == True):\n",
    "            uni.append(b[i])\n",
    "    print(len(uni))\n",
    "    for i in range(len(uni)):\n",
    "             unic(uni[i],b)\n",
    "def whether(c,uni):\n",
    "    for j in range(len(uni)):\n",
    "        if(uni[j]==c):\n",
    "            return False\n",
    "        return True\n",
    "def unic(c,b):\n",
    "    frq=0\n",
    "    for i in range(len(b)):\n",
    "        if(b[i]==c):\n",
    "            frq=frq+1\n",
    "    print(frq,end=\"\")\n",
    "b=['a','j','a','j']\n",
    "element(len(b),b)        "
   ]
  },
  {
   "cell_type": "code",
   "execution_count": null,
   "metadata": {},
   "outputs": [],
   "source": []
  },
  {
   "cell_type": "code",
   "execution_count": null,
   "metadata": {},
   "outputs": [],
   "source": []
  }
 ],
 "metadata": {
  "kernelspec": {
   "display_name": "Python 3",
   "language": "python",
   "name": "python3"
  },
  "language_info": {
   "codemirror_mode": {
    "name": "ipython",
    "version": 3
   },
   "file_extension": ".py",
   "mimetype": "text/x-python",
   "name": "python",
   "nbconvert_exporter": "python",
   "pygments_lexer": "ipython3",
   "version": "3.6.5"
  }
 },
 "nbformat": 4,
 "nbformat_minor": 2
}
