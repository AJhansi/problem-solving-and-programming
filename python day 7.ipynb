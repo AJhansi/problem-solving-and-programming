{
 "cells": [
  {
   "cell_type": "markdown",
   "metadata": {},
   "source": [
    "# Problem Solving And Programming\n",
    "\n",
    "## Day 7\n",
    "\n",
    "## May 10/19"
   ]
  },
  {
   "cell_type": "code",
   "execution_count": null,
   "metadata": {},
   "outputs": [],
   "source": []
  },
  {
   "cell_type": "markdown",
   "metadata": {},
   "source": [
    "# Problem 1\n",
    "\n",
    "# Given an int n, return True if it is within 10 of 100 or 200. Note: abs(num) computes the absolute value of a number.\n",
    "\n",
    "\n",
    "##  test cases¶\n",
    "\n",
    "* near_hundred(93) → True \n",
    "* near_hundred(90) → True \n",
    "* near_hundred(89) → False"
   ]
  },
  {
   "cell_type": "code",
   "execution_count": 1,
   "metadata": {},
   "outputs": [
    {
     "name": "stdout",
     "output_type": "stream",
     "text": [
      "True\n",
      "True\n",
      "False\n"
     ]
    }
   ],
   "source": [
    "def nearhundred(n):\n",
    "    if (n<=110) and (n>=90):\n",
    "        return True\n",
    "    else:\n",
    "        return False\n",
    "    \n",
    "print(nearhundred(93))\n",
    "print(nearhundred(90))\n",
    "print(nearhundred(89))\n"
   ]
  },
  {
   "cell_type": "code",
   "execution_count": null,
   "metadata": {},
   "outputs": [],
   "source": []
  },
  {
   "cell_type": "markdown",
   "metadata": {},
   "source": [
    "# Problem 2\n",
    "\n",
    "## Design a procedure to generate given string is a palindrome or not\n",
    "\n",
    "\n",
    "\n",
    "## Contraints\n",
    " * number will be in the range (1,10000000000)"
   ]
  },
  {
   "cell_type": "markdown",
   "metadata": {},
   "source": [
    "## test cases\n",
    "* Palindorme(\"racecar\")->True\n",
    "* palindrome(\"raptor\")->False"
   ]
  },
  {
   "cell_type": "code",
   "execution_count": 4,
   "metadata": {},
   "outputs": [
    {
     "name": "stdout",
     "output_type": "stream",
     "text": [
      "True\n",
      "False\n"
     ]
    }
   ],
   "source": [
    "def palindrome(s):\n",
    "    rs=s[-1::-1]\n",
    "    if(s==rs):\n",
    "        return True\n",
    "    else:\n",
    "        return False\n",
    "print(palindrome(\"racecar\"))\n",
    "print(palindrome(\"raptor\"))"
   ]
  },
  {
   "cell_type": "code",
   "execution_count": null,
   "metadata": {},
   "outputs": [],
   "source": []
  },
  {
   "cell_type": "markdown",
   "metadata": {},
   "source": [
    "# Problem 3\n",
    "\n",
    "## Factorial of a given no. as procedure\n",
    "\n",
    "\n",
    "## Contraints\n",
    " * number will be in the range (1,10000000000)\n",
    "\n",
    "### Test cases\n",
    "* Factorial(5)->120\n",
    "* Factorial(6)->720"
   ]
  },
  {
   "cell_type": "code",
   "execution_count": 6,
   "metadata": {},
   "outputs": [
    {
     "name": "stdout",
     "output_type": "stream",
     "text": [
      "120\n",
      "720\n"
     ]
    }
   ],
   "source": [
    "def factorial(n):\n",
    "    fact=1\n",
    "    for i in range(1,n+1):\n",
    "        fact=fact*i\n",
    "    return fact\n",
    "print(factorial(5))\n",
    "print(factorial(6))"
   ]
  },
  {
   "cell_type": "code",
   "execution_count": null,
   "metadata": {},
   "outputs": [],
   "source": []
  },
  {
   "cell_type": "markdown",
   "metadata": {},
   "source": [
    "# Problem 4\n",
    "\n",
    "## Design a procedure to calculate mav, min, avg of given no.'s\n",
    "\n",
    "\n",
    "## Contraints\n",
    " * number will be in the range (1,10000000000)\n",
    " \n",
    " ### Test cases\n",
    "* a[2,3,4,5,6,7]->max=7\n",
    "* a[2,3,4,5,6,7]->min=2\n",
    "* a[2,3,4,5,6,7]->avg=4.5"
   ]
  },
  {
   "cell_type": "code",
   "execution_count": 10,
   "metadata": {},
   "outputs": [
    {
     "name": "stdout",
     "output_type": "stream",
     "text": [
      "maximum  7\n",
      "minimum  2\n",
      "average  4.5\n"
     ]
    }
   ],
   "source": [
    "def maxminavg(a,n):\n",
    "    \n",
    "    print(\"maximum \",max(a))\n",
    "    print(\"minimum \",min(a))  \n",
    "    print(\"average \",sum(a)/n)\n",
    "    \n",
    "maxminavg([2, 3, 4, 5, 6, 7],6)"
   ]
  },
  {
   "cell_type": "code",
   "execution_count": null,
   "metadata": {},
   "outputs": [],
   "source": []
  },
  {
   "cell_type": "markdown",
   "metadata": {},
   "source": [
    "# Problem 5\n",
    "\n",
    "## Design a procedure to sort a given set of no.'s.\n",
    "\n"
   ]
  },
  {
   "cell_type": "code",
   "execution_count": 4,
   "metadata": {},
   "outputs": [
    {
     "name": "stdout",
     "output_type": "stream",
     "text": [
      "[1, 2, 3]\n"
     ]
    }
   ],
   "source": [
    "def sorting(n):\n",
    "    n.sort()\n",
    "    return(n)\n",
    "print(sorting([3, 1, 2]))"
   ]
  },
  {
   "cell_type": "code",
   "execution_count": null,
   "metadata": {},
   "outputs": [],
   "source": []
  },
  {
   "cell_type": "raw",
   "metadata": {},
   "source": []
  },
  {
   "cell_type": "markdown",
   "metadata": {},
   "source": [
    "# Problem 6\n",
    "\n",
    "## Desing a procedure to calculate the squareroot of a no.\n",
    "\n",
    "### Constraints\n",
    "* Given no. can be in the range [1,10000000000]\n",
    "\n",
    "\n",
    "#### Test cases\n",
    "* squareroot(25)->5\n",
    "* squareroot(36)->6\n"
   ]
  },
  {
   "cell_type": "code",
   "execution_count": 30,
   "metadata": {},
   "outputs": [
    {
     "name": "stdout",
     "output_type": "stream",
     "text": [
      "5.0\n",
      "6.0\n"
     ]
    }
   ],
   "source": [
    "def squareroot(n):\n",
    "    for i in range(1,n**2):\n",
    "        s=pow(n,0.5)\n",
    "    return s\n",
    "print(squareroot(25))\n",
    "print(squareroot(36))"
   ]
  },
  {
   "cell_type": "code",
   "execution_count": null,
   "metadata": {},
   "outputs": [],
   "source": []
  },
  {
   "cell_type": "markdown",
   "metadata": {},
   "source": [
    "# Problem 7\n",
    "\n",
    "## Problem statement\n",
    "\n",
    "### proceduer to count the no. of digits in a given no.\n",
    "\n",
    "#### constraints\n",
    "* given no. will be in the range of [1,10000000000]"
   ]
  },
  {
   "cell_type": "markdown",
   "metadata": {},
   "source": [
    "#### Test cases\n",
    "\n",
    "* countdigits(123456)->6"
   ]
  },
  {
   "cell_type": "code",
   "execution_count": 3,
   "metadata": {},
   "outputs": [
    {
     "name": "stdout",
     "output_type": "stream",
     "text": [
      "6\n"
     ]
    }
   ],
   "source": [
    "def countdigits(n):\n",
    "    count=0\n",
    "    while(n>0):\n",
    "        count=count+1\n",
    "        n=n//10\n",
    "    return (count)\n",
    "print(countdigits(123456))"
   ]
  },
  {
   "cell_type": "markdown",
   "metadata": {},
   "source": [
    "# problem 8\n",
    "\n",
    "## Statement\n",
    "\n",
    "### Powre of a number\n"
   ]
  },
  {
   "cell_type": "code",
   "execution_count": 53,
   "metadata": {},
   "outputs": [
    {
     "data": {
      "text/plain": [
       "1024"
      ]
     },
     "execution_count": 53,
     "metadata": {},
     "output_type": "execute_result"
    }
   ],
   "source": [
    "def power(n,r):\n",
    "    prod=1\n",
    "    for i in range(1,r+1):\n",
    "        prod *=n\n",
    "    return(prod)\n",
    "power(2,10)"
   ]
  },
  {
   "cell_type": "code",
   "execution_count": null,
   "metadata": {},
   "outputs": [],
   "source": []
  },
  {
   "cell_type": "code",
   "execution_count": null,
   "metadata": {},
   "outputs": [],
   "source": [
    "def rec(n,r):\n",
    "    if r==1:\n",
    "        return n\n",
    "    else:\n",
    "            return (rec(n,r-1)*n)\n",
    "rec(3,4)"
   ]
  },
  {
   "cell_type": "markdown",
   "metadata": {},
   "source": [
    "# Problem 9\n",
    "\n",
    "## statement\n",
    "\n",
    "\n",
    "### power of a number\n"
   ]
  },
  {
   "cell_type": "code",
   "execution_count": 1,
   "metadata": {},
   "outputs": [
    {
     "data": {
      "text/plain": [
       "120"
      ]
     },
     "execution_count": 1,
     "metadata": {},
     "output_type": "execute_result"
    }
   ],
   "source": [
    "#iterative\n",
    "def fac(n):\n",
    "    if n==1:\n",
    "        return 1\n",
    "    else:\n",
    "        return(n*(fac(n-1)))\n",
    "fac(5)"
   ]
  },
  {
   "cell_type": "code",
   "execution_count": null,
   "metadata": {},
   "outputs": [],
   "source": []
  },
  {
   "cell_type": "code",
   "execution_count": null,
   "metadata": {},
   "outputs": [],
   "source": []
  },
  {
   "cell_type": "markdown",
   "metadata": {},
   "source": [
    "# problem 10\n",
    "\n",
    "## Statement\n",
    "\n",
    "### GCD"
   ]
  },
  {
   "cell_type": "code",
   "execution_count": 1,
   "metadata": {},
   "outputs": [
    {
     "data": {
      "text/plain": [
       "12"
      ]
     },
     "execution_count": 1,
     "metadata": {},
     "output_type": "execute_result"
    }
   ],
   "source": [
    "#recursive\n",
    "\n",
    "def gcd(a,b):\n",
    "    if b % a ==0:\n",
    "        return a\n",
    "    else:\n",
    "        return gcd(a%b,b)\n",
    "gcd(12,48)"
   ]
  },
  {
   "cell_type": "code",
   "execution_count": 1,
   "metadata": {},
   "outputs": [
    {
     "data": {
      "text/plain": [
       "3"
      ]
     },
     "execution_count": 1,
     "metadata": {},
     "output_type": "execute_result"
    }
   ],
   "source": [
    "#iterative\n",
    "def gcdi(a,b):\n",
    "    r=b%a\n",
    "    while r!=0:\n",
    "        r=b%a\n",
    "        b=a\n",
    "        a=r\n",
    "    return b\n",
    "gcdi(12,39)\n",
    "        "
   ]
  },
  {
   "cell_type": "code",
   "execution_count": null,
   "metadata": {},
   "outputs": [],
   "source": []
  },
  {
   "cell_type": "markdown",
   "metadata": {},
   "source": [
    "# problem 11\n",
    "\n",
    "## statement\n",
    "\n",
    "### Towers of hanoi using recurssion\n",
    "\n",
    "#### Explanation\n",
    "\n",
    "n disks -> move n-1 from source to temp, move the nth disk from source to destination,move n-1 disk from temp to destination.\n",
    "\n",
    "3 disk -> move 2 disks from source to temp, move 3rd disk from source to destination  2 disks from temp to destination"
   ]
  },
  {
   "cell_type": "code",
   "execution_count": 11,
   "metadata": {},
   "outputs": [
    {
     "name": "stdout",
     "output_type": "stream",
     "text": [
      "Move  1 disk from  A to  B\n",
      "Move 1 disk from A to B\n",
      "Move  1 disk from  B to  C\n"
     ]
    }
   ],
   "source": [
    "def towersofhanoi(n, source, temp, dest):\n",
    "    if n==1:\n",
    "        print('Move ', n, 'disk from ', source, 'to ',dest)\n",
    "        return\n",
    "    else:\n",
    "        towersofhanoi(n-1,source,dest,temp)\n",
    "        print('Move',n-1,'disk from',source,'to',temp)\n",
    "        towersofhanoi(n-1,temp,source,dest)\n",
    "        return\n",
    "towersofhanoi(2, 'A', 'B', 'C') \n",
    "                "
   ]
  },
  {
   "cell_type": "code",
   "execution_count": null,
   "metadata": {},
   "outputs": [],
   "source": []
  },
  {
   "cell_type": "markdown",
   "metadata": {},
   "source": [
    "# Problem 12\n",
    "\n",
    "\n",
    "## Procedure to print the lish of factors of given no.\n",
    "\n",
    "### constraints\n",
    "* given no. will be in the range of [1,10000000000]\n",
    "\n",
    "#### Test case\n",
    "\n",
    "* factorlist(6)-> (1, 2, 3, 6)\n",
    "* factorlist(9)-> (1, 2, 3, 9)"
   ]
  },
  {
   "cell_type": "code",
   "execution_count": 14,
   "metadata": {},
   "outputs": [
    {
     "name": "stdout",
     "output_type": "stream",
     "text": [
      "[1, 2, 3, 6]\n",
      "[1, 3, 9]\n"
     ]
    }
   ],
   "source": [
    "def factorlist(n):\n",
    "    a=[]\n",
    "    for i in range(1,n+1):\n",
    "        if n%i==0:\n",
    "            a.append(i)\n",
    "    return a\n",
    "print(factorlist(6))\n",
    "print(factorlist(9))"
   ]
  },
  {
   "cell_type": "code",
   "execution_count": null,
   "metadata": {},
   "outputs": [],
   "source": []
  },
  {
   "cell_type": "markdown",
   "metadata": {},
   "source": [
    "# Problem 13\n",
    "\n",
    "## Define a function to convert a decimal number to the corresponding binary number\n",
    "\n",
    "### Test cases\n",
    "* decimalToBinary(15) -> 1111\n",
    "* decimalToBinary(1) -> 1 "
   ]
  },
  {
   "cell_type": "code",
   "execution_count": 15,
   "metadata": {},
   "outputs": [
    {
     "name": "stdout",
     "output_type": "stream",
     "text": [
      "10"
     ]
    }
   ],
   "source": [
    "def decimaltobinary(n):\n",
    "    if(n>1):\n",
    "        decimaltobinary(n//2)\n",
    "    print (n%2,end='')\n",
    "decimaltobinary(2)"
   ]
  },
  {
   "cell_type": "code",
   "execution_count": null,
   "metadata": {},
   "outputs": [],
   "source": []
  },
  {
   "cell_type": "markdown",
   "metadata": {},
   "source": [
    "# Problem 14\n",
    "\n",
    "## procedure to check if the given no. is prime or not"
   ]
  },
  {
   "cell_type": "code",
   "execution_count": 34,
   "metadata": {},
   "outputs": [
    {
     "name": "stdout",
     "output_type": "stream",
     "text": [
      "True\n",
      "False\n"
     ]
    }
   ],
   "source": [
    "def isprime(n):\n",
    "    count=0\n",
    "    for i in range(2,n):\n",
    "        if(n%i==0):\n",
    "            count +=1\n",
    "    if(count==0):\n",
    "           \n",
    "        \n",
    "        return True\n",
    "    else:\n",
    "        return False\n",
    "print(isprime(7))\n",
    "print(isprime(9))"
   ]
  },
  {
   "cell_type": "code",
   "execution_count": null,
   "metadata": {},
   "outputs": [],
   "source": []
  },
  {
   "cell_type": "markdown",
   "metadata": {},
   "source": [
    "# problem 15\n",
    "\n",
    "## testing divisibility with 2 ,3 , but not 4"
   ]
  },
  {
   "cell_type": "code",
   "execution_count": 36,
   "metadata": {},
   "outputs": [
    {
     "data": {
      "text/plain": [
       "True"
      ]
     },
     "execution_count": 36,
     "metadata": {},
     "output_type": "execute_result"
    }
   ],
   "source": [
    "def checkdivisibility(n):\n",
    "    if n%2==0 and n%3==0 and n%4!=0:\n",
    "        return True\n",
    "    else:\n",
    "        return False\n",
    "checkdivisibility(6)"
   ]
  },
  {
   "cell_type": "code",
   "execution_count": null,
   "metadata": {},
   "outputs": [],
   "source": []
  },
  {
   "cell_type": "markdown",
   "metadata": {},
   "source": [
    "# problem 16\n",
    "\n",
    "\n",
    "## desing procedure for basic arithmatic operations"
   ]
  },
  {
   "cell_type": "code",
   "execution_count": 39,
   "metadata": {},
   "outputs": [
    {
     "name": "stdout",
     "output_type": "stream",
     "text": [
      "3\n",
      "invalidoperation\n"
     ]
    }
   ],
   "source": [
    "def operations(a,b,ope):\n",
    "    if(ope=='+'):\n",
    "        return(a+b)\n",
    "    if(ope=='-'):\n",
    "        return(a-b)\n",
    "    if(ope=='*'):\n",
    "        return(a*b)\n",
    "    if(ope=='/'):\n",
    "        return(a/b)\n",
    "    else:\n",
    "        return('invalidoperation')\n",
    "print(operations(1,2,'+'))\n",
    "print(operations(1,2,'.'))"
   ]
  },
  {
   "cell_type": "code",
   "execution_count": null,
   "metadata": {},
   "outputs": [],
   "source": []
  },
  {
   "cell_type": "markdown",
   "metadata": {},
   "source": [
    "#  Problem 17\n",
    "\n",
    "\n",
    "## find fibonacci series of a given no."
   ]
  },
  {
   "cell_type": "code",
   "execution_count": 41,
   "metadata": {},
   "outputs": [
    {
     "name": "stdout",
     "output_type": "stream",
     "text": [
      "1\n",
      "13\n"
     ]
    }
   ],
   "source": [
    "def fibonacci(n):\n",
    "    if n==0:\n",
    "        return 0\n",
    "    elif n==1:\n",
    "        return 1\n",
    "    elif n==2:\n",
    "        return 1\n",
    "    else:\n",
    "        return (fibonacci(n-1)+fibonacci(n-2))\n",
    "print(fibonacci(2))\n",
    "print(fibonacci(7))"
   ]
  },
  {
   "cell_type": "code",
   "execution_count": null,
   "metadata": {},
   "outputs": [],
   "source": []
  },
  {
   "cell_type": "code",
   "execution_count": null,
   "metadata": {},
   "outputs": [],
   "source": []
  }
 ],
 "metadata": {
  "kernelspec": {
   "display_name": "Python 3",
   "language": "python",
   "name": "python3"
  },
  "language_info": {
   "codemirror_mode": {
    "name": "ipython",
    "version": 3
   },
   "file_extension": ".py",
   "mimetype": "text/x-python",
   "name": "python",
   "nbconvert_exporter": "python",
   "pygments_lexer": "ipython3",
   "version": "3.6.5"
  }
 },
 "nbformat": 4,
 "nbformat_minor": 2
}
